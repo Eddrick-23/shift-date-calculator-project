{
 "cells": [
  {
   "cell_type": "code",
   "execution_count": 1,
   "metadata": {},
   "outputs": [],
   "source": [
    "import pandas as pd\n",
    "from datetime import datetime\n",
    "from itertools import cycle"
   ]
  },
  {
   "cell_type": "code",
   "execution_count": 7,
   "metadata": {},
   "outputs": [],
   "source": [
    "class Calendar():\n",
    "    def __init__(self,start_date,end_date):\n",
    "        '''\n",
    "        To initialize, class, input the start date and end date. \n",
    "        A list of dates is created for the corresponding start and end dates given.\n",
    "        The date-shift pairs are stored in a dictionary\n",
    "        '''\n",
    "        self.start_date = start_date\n",
    "        self.end_date = end_date\n",
    "        self.date_list = pd.date_range(datetime.strptime(start_date,\"%Y-%m-%d\"),datetime.strptime(end_date,\"%Y-%m-%d\"),freq = 'D')\n",
    "        self.date_shifts = {} #initialise empty dict\n",
    "    def show_dates(self): \n",
    "        '''\n",
    "        Displays all dates and their corresponding shifts\n",
    "        '''\n",
    "        print(self.date_shifts)\n",
    "    \n",
    "    def calculate_shift(self): \n",
    "        '''\n",
    "        status_on_first_day = S1,S2,M1,M2,D1,D2 in str format\n",
    "        '''\n",
    "        \n",
    "        sample = [\"S1\",\"S2\",\"M1\",\"M2\",\"D1\",\"D2\"]\n",
    "        startIdx = 0\n",
    "\n",
    "        #ask for user input on first shift day\n",
    "        while True:\n",
    "            first = input(f\"what is the shif on the first day {self.start_date}?: \")\n",
    "\n",
    "            if first not in sample:\n",
    "                print(\"shift does not exist, try: S1,S2,M1,M2,D1,D2\")\n",
    "                continue\n",
    "            else:\n",
    "                startIdx = sample.index(first) #set the first index\n",
    "                break\n",
    "        #rotate list to start with first day\n",
    "        status = sample[startIdx:]+sample[:startIdx]\n",
    "        status = cycle(status) #convert to itertable to use next() function\n",
    "        \n",
    "        for date in self.date_list.strftime(\"%Y-%m-%d\"):\n",
    "            self.date_shifts[date] = next(status)\n",
    "    \n",
    "    def show_shift_on_date(self,date): \n",
    "        \n",
    "        '''\n",
    "        shows the shift on a specific date. Input to be in 'YYYY-MM-DD' format\n",
    "        '''\n",
    "        print(f'Your shift on {date} is {self.date_shifts[date]}.')\n",
    "    \n",
    "    def calc_working_days(self,date): \n",
    "        '''\n",
    "        calculate the number of working days from the \"date\" onwards.\n",
    "        date input to be in 'YYYY-MM-DD' format\n",
    "        '''\n",
    "        dates = pd.date_range(datetime.strptime(date,\"%Y-%m-%d\"),datetime.strptime(self.end_date,\"%Y-%m-%d\"),freq = 'D')\n",
    "        total_days = len(dates)\n",
    "        non_working = 0\n",
    "        for date in dates.strftime(\"%Y-%m-%d\"):\n",
    "            if self.date_shifts[date] in ['D1','D2']:\n",
    "                non_working += 1\n",
    "        \n",
    "        working_days = total_days - non_working\n",
    "\n",
    "        print(f'Total:{total_days}, working:{working_days}, non working :{non_working}')\n",
    "            \n",
    "\n",
    "\n",
    "            "
   ]
  },
  {
   "cell_type": "code",
   "execution_count": 8,
   "metadata": {},
   "outputs": [],
   "source": [
    "Sample = Calendar(\"2024-5-23\",\"2025-1-27\")"
   ]
  },
  {
   "cell_type": "code",
   "execution_count": 9,
   "metadata": {},
   "outputs": [],
   "source": [
    "Sample.calculate_shift() #must make this method call before other methods can be used. "
   ]
  },
  {
   "cell_type": "code",
   "execution_count": 10,
   "metadata": {},
   "outputs": [
    {
     "name": "stdout",
     "output_type": "stream",
     "text": [
      "Your shift on 2024-05-25 is S1.\n"
     ]
    }
   ],
   "source": [
    "Sample.show_shift_on_date('2024-05-25')"
   ]
  },
  {
   "cell_type": "code",
   "execution_count": 11,
   "metadata": {},
   "outputs": [
    {
     "name": "stdout",
     "output_type": "stream",
     "text": [
      "{'2024-05-23': 'D1', '2024-05-24': 'D2', '2024-05-25': 'S1', '2024-05-26': 'S2', '2024-05-27': 'M1', '2024-05-28': 'M2', '2024-05-29': 'D1', '2024-05-30': 'D2', '2024-05-31': 'S1', '2024-06-01': 'S2', '2024-06-02': 'M1', '2024-06-03': 'M2', '2024-06-04': 'D1', '2024-06-05': 'D2', '2024-06-06': 'S1', '2024-06-07': 'S2', '2024-06-08': 'M1', '2024-06-09': 'M2', '2024-06-10': 'D1', '2024-06-11': 'D2', '2024-06-12': 'S1', '2024-06-13': 'S2', '2024-06-14': 'M1', '2024-06-15': 'M2', '2024-06-16': 'D1', '2024-06-17': 'D2', '2024-06-18': 'S1', '2024-06-19': 'S2', '2024-06-20': 'M1', '2024-06-21': 'M2', '2024-06-22': 'D1', '2024-06-23': 'D2', '2024-06-24': 'S1', '2024-06-25': 'S2', '2024-06-26': 'M1', '2024-06-27': 'M2', '2024-06-28': 'D1', '2024-06-29': 'D2', '2024-06-30': 'S1', '2024-07-01': 'S2', '2024-07-02': 'M1', '2024-07-03': 'M2', '2024-07-04': 'D1', '2024-07-05': 'D2', '2024-07-06': 'S1', '2024-07-07': 'S2', '2024-07-08': 'M1', '2024-07-09': 'M2', '2024-07-10': 'D1', '2024-07-11': 'D2', '2024-07-12': 'S1', '2024-07-13': 'S2', '2024-07-14': 'M1', '2024-07-15': 'M2', '2024-07-16': 'D1', '2024-07-17': 'D2', '2024-07-18': 'S1', '2024-07-19': 'S2', '2024-07-20': 'M1', '2024-07-21': 'M2', '2024-07-22': 'D1', '2024-07-23': 'D2', '2024-07-24': 'S1', '2024-07-25': 'S2', '2024-07-26': 'M1', '2024-07-27': 'M2', '2024-07-28': 'D1', '2024-07-29': 'D2', '2024-07-30': 'S1', '2024-07-31': 'S2', '2024-08-01': 'M1', '2024-08-02': 'M2', '2024-08-03': 'D1', '2024-08-04': 'D2', '2024-08-05': 'S1', '2024-08-06': 'S2', '2024-08-07': 'M1', '2024-08-08': 'M2', '2024-08-09': 'D1', '2024-08-10': 'D2', '2024-08-11': 'S1', '2024-08-12': 'S2', '2024-08-13': 'M1', '2024-08-14': 'M2', '2024-08-15': 'D1', '2024-08-16': 'D2', '2024-08-17': 'S1', '2024-08-18': 'S2', '2024-08-19': 'M1', '2024-08-20': 'M2', '2024-08-21': 'D1', '2024-08-22': 'D2', '2024-08-23': 'S1', '2024-08-24': 'S2', '2024-08-25': 'M1', '2024-08-26': 'M2', '2024-08-27': 'D1', '2024-08-28': 'D2', '2024-08-29': 'S1', '2024-08-30': 'S2', '2024-08-31': 'M1', '2024-09-01': 'M2', '2024-09-02': 'D1', '2024-09-03': 'D2', '2024-09-04': 'S1', '2024-09-05': 'S2', '2024-09-06': 'M1', '2024-09-07': 'M2', '2024-09-08': 'D1', '2024-09-09': 'D2', '2024-09-10': 'S1', '2024-09-11': 'S2', '2024-09-12': 'M1', '2024-09-13': 'M2', '2024-09-14': 'D1', '2024-09-15': 'D2', '2024-09-16': 'S1', '2024-09-17': 'S2', '2024-09-18': 'M1', '2024-09-19': 'M2', '2024-09-20': 'D1', '2024-09-21': 'D2', '2024-09-22': 'S1', '2024-09-23': 'S2', '2024-09-24': 'M1', '2024-09-25': 'M2', '2024-09-26': 'D1', '2024-09-27': 'D2', '2024-09-28': 'S1', '2024-09-29': 'S2', '2024-09-30': 'M1', '2024-10-01': 'M2', '2024-10-02': 'D1', '2024-10-03': 'D2', '2024-10-04': 'S1', '2024-10-05': 'S2', '2024-10-06': 'M1', '2024-10-07': 'M2', '2024-10-08': 'D1', '2024-10-09': 'D2', '2024-10-10': 'S1', '2024-10-11': 'S2', '2024-10-12': 'M1', '2024-10-13': 'M2', '2024-10-14': 'D1', '2024-10-15': 'D2', '2024-10-16': 'S1', '2024-10-17': 'S2', '2024-10-18': 'M1', '2024-10-19': 'M2', '2024-10-20': 'D1', '2024-10-21': 'D2', '2024-10-22': 'S1', '2024-10-23': 'S2', '2024-10-24': 'M1', '2024-10-25': 'M2', '2024-10-26': 'D1', '2024-10-27': 'D2', '2024-10-28': 'S1', '2024-10-29': 'S2', '2024-10-30': 'M1', '2024-10-31': 'M2', '2024-11-01': 'D1', '2024-11-02': 'D2', '2024-11-03': 'S1', '2024-11-04': 'S2', '2024-11-05': 'M1', '2024-11-06': 'M2', '2024-11-07': 'D1', '2024-11-08': 'D2', '2024-11-09': 'S1', '2024-11-10': 'S2', '2024-11-11': 'M1', '2024-11-12': 'M2', '2024-11-13': 'D1', '2024-11-14': 'D2', '2024-11-15': 'S1', '2024-11-16': 'S2', '2024-11-17': 'M1', '2024-11-18': 'M2', '2024-11-19': 'D1', '2024-11-20': 'D2', '2024-11-21': 'S1', '2024-11-22': 'S2', '2024-11-23': 'M1', '2024-11-24': 'M2', '2024-11-25': 'D1', '2024-11-26': 'D2', '2024-11-27': 'S1', '2024-11-28': 'S2', '2024-11-29': 'M1', '2024-11-30': 'M2', '2024-12-01': 'D1', '2024-12-02': 'D2', '2024-12-03': 'S1', '2024-12-04': 'S2', '2024-12-05': 'M1', '2024-12-06': 'M2', '2024-12-07': 'D1', '2024-12-08': 'D2', '2024-12-09': 'S1', '2024-12-10': 'S2', '2024-12-11': 'M1', '2024-12-12': 'M2', '2024-12-13': 'D1', '2024-12-14': 'D2', '2024-12-15': 'S1', '2024-12-16': 'S2', '2024-12-17': 'M1', '2024-12-18': 'M2', '2024-12-19': 'D1', '2024-12-20': 'D2', '2024-12-21': 'S1', '2024-12-22': 'S2', '2024-12-23': 'M1', '2024-12-24': 'M2', '2024-12-25': 'D1', '2024-12-26': 'D2', '2024-12-27': 'S1', '2024-12-28': 'S2', '2024-12-29': 'M1', '2024-12-30': 'M2', '2024-12-31': 'D1', '2025-01-01': 'D2', '2025-01-02': 'S1', '2025-01-03': 'S2', '2025-01-04': 'M1', '2025-01-05': 'M2', '2025-01-06': 'D1', '2025-01-07': 'D2', '2025-01-08': 'S1', '2025-01-09': 'S2', '2025-01-10': 'M1', '2025-01-11': 'M2', '2025-01-12': 'D1', '2025-01-13': 'D2', '2025-01-14': 'S1', '2025-01-15': 'S2', '2025-01-16': 'M1', '2025-01-17': 'M2', '2025-01-18': 'D1', '2025-01-19': 'D2', '2025-01-20': 'S1', '2025-01-21': 'S2', '2025-01-22': 'M1', '2025-01-23': 'M2', '2025-01-24': 'D1', '2025-01-25': 'D2', '2025-01-26': 'S1', '2025-01-27': 'S2'}\n"
     ]
    }
   ],
   "source": [
    "Sample.show_dates()"
   ]
  },
  {
   "cell_type": "code",
   "execution_count": 12,
   "metadata": {},
   "outputs": [
    {
     "name": "stdout",
     "output_type": "stream",
     "text": [
      "Total:248, working:166, non working :82\n"
     ]
    }
   ],
   "source": [
    "Sample.calc_working_days('2024-05-25')"
   ]
  },
  {
   "cell_type": "code",
   "execution_count": null,
   "metadata": {},
   "outputs": [],
   "source": []
  }
 ],
 "metadata": {
  "kernelspec": {
   "display_name": "Python 3",
   "language": "python",
   "name": "python3"
  },
  "language_info": {
   "codemirror_mode": {
    "name": "ipython",
    "version": 3
   },
   "file_extension": ".py",
   "mimetype": "text/x-python",
   "name": "python",
   "nbconvert_exporter": "python",
   "pygments_lexer": "ipython3",
   "version": "3.11.5"
  },
  "orig_nbformat": 4
 },
 "nbformat": 4,
 "nbformat_minor": 2
}
