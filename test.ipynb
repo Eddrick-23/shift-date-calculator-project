{
 "cells": [
  {
   "cell_type": "code",
   "execution_count": 1,
   "metadata": {},
   "outputs": [],
   "source": [
    "from shiftCalc import Calendar as Calendar"
   ]
  },
  {
   "cell_type": "code",
   "execution_count": 2,
   "metadata": {},
   "outputs": [],
   "source": [
    "test = Calendar(start_date= \"2024-07-30\", end_date= \"2025-10-15\")"
   ]
  },
  {
   "cell_type": "code",
   "execution_count": 3,
   "metadata": {},
   "outputs": [],
   "source": [
    "test.calculate_shift()"
   ]
  },
  {
   "cell_type": "code",
   "execution_count": 4,
   "metadata": {},
   "outputs": [
    {
     "name": "stdout",
     "output_type": "stream",
     "text": [
      "From 2024-07-30 to 2025-10-15\n",
      "Total:443, working:296, non working :147\n",
      "+-----------+----+---+----------------------------------------------------------+\n",
      "| Monday    | 43 | 0 | None                                                     |\n",
      "+-----------+----+---+----------------------------------------------------------+\n",
      "| Tuesday   | 44 | 0 | None                                                     |\n",
      "+-----------+----+---+----------------------------------------------------------+\n",
      "| Wednesday | 43 | 1 | ['Chinese New Year (estimated)']                         |\n",
      "+-----------+----+---+----------------------------------------------------------+\n",
      "| Thursday  | 42 | 1 | ['Deepavali']                                            |\n",
      "+-----------+----+---+----------------------------------------------------------+\n",
      "| Friday    | 41 | 0 | None                                                     |\n",
      "+-----------+----+---+----------------------------------------------------------+\n",
      "| Saturday  | 41 | 1 | ['National Day']                                         |\n",
      "+-----------+----+---+----------------------------------------------------------+\n",
      "| Sunday    | 42 | 2 | ['Hari Raya Puasa (estimated)', 'Vesak Day (estimated)'] |\n",
      "+-----------+----+---+----------------------------------------------------------+\n"
     ]
    }
   ],
   "source": [
    "test.calc_working_days(\"2024-07-30\")"
   ]
  },
  {
   "cell_type": "code",
   "execution_count": null,
   "metadata": {},
   "outputs": [],
   "source": []
  },
  {
   "cell_type": "code",
   "execution_count": null,
   "metadata": {},
   "outputs": [],
   "source": []
  }
 ],
 "metadata": {
  "kernelspec": {
   "display_name": "base",
   "language": "python",
   "name": "python3"
  },
  "language_info": {
   "codemirror_mode": {
    "name": "ipython",
    "version": 3
   },
   "file_extension": ".py",
   "mimetype": "text/x-python",
   "name": "python",
   "nbconvert_exporter": "python",
   "pygments_lexer": "ipython3",
   "version": "3.12.4"
  }
 },
 "nbformat": 4,
 "nbformat_minor": 2
}
