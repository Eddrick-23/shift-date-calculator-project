{
 "cells": [
  {
   "cell_type": "code",
   "execution_count": 1,
   "metadata": {},
   "outputs": [],
   "source": [
    "from shiftCalc import Calendar as Calendar"
   ]
  },
  {
   "cell_type": "code",
   "execution_count": 2,
   "metadata": {},
   "outputs": [],
   "source": [
    "test = Calendar(start_date= \"2024-07-30\", end_date= \"2025-10-15\")"
   ]
  },
  {
   "cell_type": "code",
   "execution_count": 3,
   "metadata": {},
   "outputs": [],
   "source": [
    "test.calculate_shift()"
   ]
  },
  {
   "cell_type": "code",
   "execution_count": 4,
   "metadata": {},
   "outputs": [
    {
     "name": "stdout",
     "output_type": "stream",
     "text": [
      "From 2024-07-31 to 2025-10-15\n",
      "Total:442, working:296, non working :146, Working on Public Holidays: 5\n",
      "+-----------+--------+-----------+----------------------------------------------------------+\n",
      "| Day       |   Freq |   PH Freq | Public Holidays                                          |\n",
      "+===========+========+===========+==========================================================+\n",
      "| Monday    |     43 |         0 | None                                                     |\n",
      "+-----------+--------+-----------+----------------------------------------------------------+\n",
      "| Tuesday   |     44 |         0 | None                                                     |\n",
      "+-----------+--------+-----------+----------------------------------------------------------+\n",
      "| Wednesday |     43 |         1 | ['Chinese New Year (estimated)']                         |\n",
      "+-----------+--------+-----------+----------------------------------------------------------+\n",
      "| Thursday  |     42 |         1 | ['Deepavali']                                            |\n",
      "+-----------+--------+-----------+----------------------------------------------------------+\n",
      "| Friday    |     41 |         0 | None                                                     |\n",
      "+-----------+--------+-----------+----------------------------------------------------------+\n",
      "| Saturday  |     41 |         1 | ['National Day']                                         |\n",
      "+-----------+--------+-----------+----------------------------------------------------------+\n",
      "| Sunday    |     42 |         2 | ['Hari Raya Puasa (estimated)', 'Vesak Day (estimated)'] |\n",
      "+-----------+--------+-----------+----------------------------------------------------------+\n"
     ]
    }
   ],
   "source": [
    "test.calc_working_days(\"2024-07-31\")"
   ]
  },
  {
   "cell_type": "code",
   "execution_count": 11,
   "metadata": {},
   "outputs": [],
   "source": [
    "test.set_new_cycle(reset_type = \"changeD1\")"
   ]
  },
  {
   "cell_type": "code",
   "execution_count": 12,
   "metadata": {},
   "outputs": [
    {
     "name": "stdout",
     "output_type": "stream",
     "text": [
      "From 2024-07-31 to 2025-10-15\n",
      "Total:442, working:294, non working :148, Working on Public Holidays: 14\n",
      "+-----------+--------+-----------+--------------------------------------------------------------------------------+\n",
      "| Day       |   Freq |   PH Freq | Public Holidays                                                                |\n",
      "+===========+========+===========+================================================================================+\n",
      "| Monday    |     41 |         2 | ['Hari Raya Puasa (estimated) (observed)', 'Vesak Day (estimated) (observed)'] |\n",
      "+-----------+--------+-----------+--------------------------------------------------------------------------------+\n",
      "| Tuesday   |     42 |         0 | None                                                                           |\n",
      "+-----------+--------+-----------+--------------------------------------------------------------------------------+\n",
      "| Wednesday |     42 |         3 | ['Christmas Day', \"New Year's Day\", 'Chinese New Year (estimated)']            |\n",
      "+-----------+--------+-----------+--------------------------------------------------------------------------------+\n",
      "| Thursday  |     43 |         3 | ['Deepavali', 'Chinese New Year (estimated)', 'Labour Day']                    |\n",
      "+-----------+--------+-----------+--------------------------------------------------------------------------------+\n",
      "| Friday    |     43 |         3 | ['National Day', 'Good Friday', 'Hari Raya Haji (estimated)']                  |\n",
      "+-----------+--------+-----------+--------------------------------------------------------------------------------+\n",
      "| Saturday  |     42 |         1 | ['National Day']                                                               |\n",
      "+-----------+--------+-----------+--------------------------------------------------------------------------------+\n",
      "| Sunday    |     41 |         2 | ['Hari Raya Puasa (estimated)', 'Vesak Day (estimated)']                       |\n",
      "+-----------+--------+-----------+--------------------------------------------------------------------------------+\n"
     ]
    }
   ],
   "source": [
    "test.calc_working_days(\"2024-07-31\")"
   ]
  },
  {
   "cell_type": "code",
   "execution_count": 7,
   "metadata": {},
   "outputs": [
    {
     "data": {
      "text/html": [
       "<div>\n",
       "<style scoped>\n",
       "    .dataframe tbody tr th:only-of-type {\n",
       "        vertical-align: middle;\n",
       "    }\n",
       "\n",
       "    .dataframe tbody tr th {\n",
       "        vertical-align: top;\n",
       "    }\n",
       "\n",
       "    .dataframe thead th {\n",
       "        text-align: right;\n",
       "    }\n",
       "</style>\n",
       "<table border=\"1\" class=\"dataframe\">\n",
       "  <thead>\n",
       "    <tr style=\"text-align: right;\">\n",
       "      <th></th>\n",
       "      <th>2024-12-31</th>\n",
       "    </tr>\n",
       "  </thead>\n",
       "  <tbody>\n",
       "    <tr>\n",
       "      <th>day</th>\n",
       "      <td>Tuesday</td>\n",
       "    </tr>\n",
       "    <tr>\n",
       "      <th>shifts</th>\n",
       "      <td>d1</td>\n",
       "    </tr>\n",
       "  </tbody>\n",
       "</table>\n",
       "</div>"
      ],
      "text/plain": [
       "       2024-12-31\n",
       "day       Tuesday\n",
       "shifts         d1"
      ]
     },
     "execution_count": 7,
     "metadata": {},
     "output_type": "execute_result"
    }
   ],
   "source": [
    "test.show_shift_on_date(\"2024-12-31\")"
   ]
  },
  {
   "cell_type": "code",
   "execution_count": 8,
   "metadata": {},
   "outputs": [
    {
     "data": {
      "text/html": [
       "<div>\n",
       "<style scoped>\n",
       "    .dataframe tbody tr th:only-of-type {\n",
       "        vertical-align: middle;\n",
       "    }\n",
       "\n",
       "    .dataframe tbody tr th {\n",
       "        vertical-align: top;\n",
       "    }\n",
       "\n",
       "    .dataframe thead th {\n",
       "        text-align: right;\n",
       "    }\n",
       "</style>\n",
       "<table border=\"1\" class=\"dataframe\">\n",
       "  <thead>\n",
       "    <tr style=\"text-align: right;\">\n",
       "      <th></th>\n",
       "      <th>2025-01-01</th>\n",
       "    </tr>\n",
       "  </thead>\n",
       "  <tbody>\n",
       "    <tr>\n",
       "      <th>day</th>\n",
       "      <td>Wednesday</td>\n",
       "    </tr>\n",
       "    <tr>\n",
       "      <th>shifts</th>\n",
       "      <td>d2</td>\n",
       "    </tr>\n",
       "  </tbody>\n",
       "</table>\n",
       "</div>"
      ],
      "text/plain": [
       "       2025-01-01\n",
       "day     Wednesday\n",
       "shifts         d2"
      ]
     },
     "execution_count": 8,
     "metadata": {},
     "output_type": "execute_result"
    }
   ],
   "source": [
    "test.show_shift_on_date(\"2025-01-01\")"
   ]
  },
  {
   "cell_type": "code",
   "execution_count": 13,
   "metadata": {},
   "outputs": [],
   "source": [
    "test.set_new_cycle(reset_type=\"changeD1\")"
   ]
  },
  {
   "cell_type": "code",
   "execution_count": 14,
   "metadata": {},
   "outputs": [
    {
     "name": "stdout",
     "output_type": "stream",
     "text": [
      "From 31 July 2024 to 2025-10-15\n",
      "Total:442, working:294, non working :148, Working on Public Holidays: 9\n",
      "+-----------+--------+-----------+--------------------------------------------------------------------------------+\n",
      "| Day       |   Freq |   PH Freq | Public Holidays                                                                |\n",
      "+===========+========+===========+================================================================================+\n",
      "| Monday    |     42 |         2 | ['Hari Raya Puasa (estimated) (observed)', 'Vesak Day (estimated) (observed)'] |\n",
      "+-----------+--------+-----------+--------------------------------------------------------------------------------+\n",
      "| Tuesday   |     42 |         0 | None                                                                           |\n",
      "+-----------+--------+-----------+--------------------------------------------------------------------------------+\n",
      "| Wednesday |     41 |         2 | ['Christmas Day', \"New Year's Day\"]                                            |\n",
      "+-----------+--------+-----------+--------------------------------------------------------------------------------+\n",
      "| Thursday  |     41 |         2 | ['Chinese New Year (estimated)', 'Labour Day']                                 |\n",
      "+-----------+--------+-----------+--------------------------------------------------------------------------------+\n",
      "| Friday    |     42 |         3 | ['National Day', 'Good Friday', 'Hari Raya Haji (estimated)']                  |\n",
      "+-----------+--------+-----------+--------------------------------------------------------------------------------+\n",
      "| Saturday  |     43 |         0 | None                                                                           |\n",
      "+-----------+--------+-----------+--------------------------------------------------------------------------------+\n",
      "| Sunday    |     43 |         0 | None                                                                           |\n",
      "+-----------+--------+-----------+--------------------------------------------------------------------------------+\n"
     ]
    }
   ],
   "source": [
    "test.calc_working_days(\"31 July 2024\")"
   ]
  },
  {
   "cell_type": "code",
   "execution_count": 15,
   "metadata": {},
   "outputs": [],
   "source": [
    "section3 = Calendar(\"2023-09-04\",\"2025-01-27\")"
   ]
  },
  {
   "cell_type": "code",
   "execution_count": 16,
   "metadata": {},
   "outputs": [],
   "source": [
    "section3.calculate_shift()"
   ]
  },
  {
   "cell_type": "code",
   "execution_count": 18,
   "metadata": {},
   "outputs": [
    {
     "name": "stdout",
     "output_type": "stream",
     "text": [
      "From 31 July 2024 to 2025-01-27\n",
      "Total:181, working:121, non working :60, Working on Public Holidays: 2\n",
      "+-----------+--------+-----------+----------------------+\n",
      "| Day       |   Freq |   PH Freq | Public Holidays      |\n",
      "+===========+========+===========+======================+\n",
      "| Monday    |     18 |         0 | None                 |\n",
      "+-----------+--------+-----------+----------------------+\n",
      "| Tuesday   |     18 |         0 | None                 |\n",
      "+-----------+--------+-----------+----------------------+\n",
      "| Wednesday |     18 |         0 | None                 |\n",
      "+-----------+--------+-----------+----------------------+\n",
      "| Thursday  |     17 |         0 | None                 |\n",
      "+-----------+--------+-----------+----------------------+\n",
      "| Friday    |     16 |         0 | None                 |\n",
      "+-----------+--------+-----------+----------------------+\n",
      "| Saturday  |     17 |         1 | ['Chinese New Year'] |\n",
      "+-----------+--------+-----------+----------------------+\n",
      "| Sunday    |     17 |         1 | ['Deepavali']        |\n",
      "+-----------+--------+-----------+----------------------+\n"
     ]
    }
   ],
   "source": [
    "section3.calc_working_days(\"31 July 2024\")"
   ]
  },
  {
   "cell_type": "code",
   "execution_count": null,
   "metadata": {},
   "outputs": [],
   "source": []
  }
 ],
 "metadata": {
  "kernelspec": {
   "display_name": "base",
   "language": "python",
   "name": "python3"
  },
  "language_info": {
   "codemirror_mode": {
    "name": "ipython",
    "version": 3
   },
   "file_extension": ".py",
   "mimetype": "text/x-python",
   "name": "python",
   "nbconvert_exporter": "python",
   "pygments_lexer": "ipython3",
   "version": "3.12.4"
  }
 },
 "nbformat": 4,
 "nbformat_minor": 2
}
