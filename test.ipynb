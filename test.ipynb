{
 "cells": [
  {
   "cell_type": "code",
   "execution_count": 1,
   "metadata": {},
   "outputs": [],
   "source": [
    "from shiftCalc import Calendar as Calendar"
   ]
  },
  {
   "cell_type": "code",
   "execution_count": 2,
   "metadata": {},
   "outputs": [],
   "source": [
    "test = Calendar(start_date= \"2024-07-25\", end_date= \"2025-10-15\")"
   ]
  },
  {
   "cell_type": "code",
   "execution_count": 3,
   "metadata": {},
   "outputs": [],
   "source": [
    "test.calculate_shift()"
   ]
  },
  {
   "cell_type": "code",
   "execution_count": 5,
   "metadata": {},
   "outputs": [
    {
     "name": "stdout",
     "output_type": "stream",
     "text": [
      "Total:448, working:299, non working :149\n",
      "| Days      |   Days Working |\n",
      "|:----------|---------------:|\n",
      "| Monday    |             43 |\n",
      "| Tuesday   |             44 |\n",
      "| Wednesday |             43 |\n",
      "| Thursday  |             43 |\n",
      "| Friday    |             42 |\n",
      "| Saturday  |             42 |\n",
      "| Sunday    |             42 |\n"
     ]
    }
   ],
   "source": [
    "freq = test.calc_working_days(\"2024-07-25\")"
   ]
  }
 ],
 "metadata": {
  "kernelspec": {
   "display_name": "base",
   "language": "python",
   "name": "python3"
  },
  "language_info": {
   "codemirror_mode": {
    "name": "ipython",
    "version": 3
   },
   "file_extension": ".py",
   "mimetype": "text/x-python",
   "name": "python",
   "nbconvert_exporter": "python",
   "pygments_lexer": "ipython3",
   "version": "3.11.5"
  }
 },
 "nbformat": 4,
 "nbformat_minor": 2
}
